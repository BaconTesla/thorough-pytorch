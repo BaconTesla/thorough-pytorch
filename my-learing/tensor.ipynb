{
 "cells": [
  {
   "cell_type": "code",
   "execution_count": 1,
   "id": "8fcce4a6-8b9a-4ba9-b3ff-928c5583fdcd",
   "metadata": {},
   "outputs": [],
   "source": [
    "import torch"
   ]
  },
  {
   "cell_type": "code",
   "execution_count": 2,
   "id": "9329d763-ecd9-4f1a-b67a-71b4217f66fb",
   "metadata": {},
   "outputs": [
    {
     "data": {
      "text/plain": [
       "True"
      ]
     },
     "execution_count": 2,
     "metadata": {},
     "output_type": "execute_result"
    }
   ],
   "source": [
    "torch.cuda.is_available()"
   ]
  },
  {
   "cell_type": "code",
   "execution_count": 3,
   "id": "a90b61e2-282c-43b1-8a55-ccb4bfe7f2d8",
   "metadata": {},
   "outputs": [
    {
     "name": "stdout",
     "output_type": "stream",
     "text": [
      "Python 3.9.19\n"
     ]
    }
   ],
   "source": [
    "!python --version"
   ]
  },
  {
   "cell_type": "markdown",
   "id": "632f3306-b343-4452-924b-6b5d67109ee0",
   "metadata": {},
   "source": [
    "1. 创建tensor"
   ]
  },
  {
   "cell_type": "code",
   "execution_count": 5,
   "id": "28521577-8a78-447c-9583-e77adec445a8",
   "metadata": {},
   "outputs": [
    {
     "data": {
      "text/plain": [
       "tensor([[0.9394, 0.1650, 0.2060, 0.2899],\n",
       "        [0.1699, 0.8507, 0.3837, 0.7386],\n",
       "        [0.0391, 0.3592, 0.1808, 0.1385],\n",
       "        [0.2703, 0.1656, 0.8787, 0.2474]])"
      ]
     },
     "execution_count": 5,
     "metadata": {},
     "output_type": "execute_result"
    }
   ],
   "source": [
    "x = torch.rand(4,4)\n",
    "x"
   ]
  },
  {
   "cell_type": "code",
   "execution_count": 6,
   "id": "13be5173-b5df-4b79-9d21-ab2da66b3bfb",
   "metadata": {},
   "outputs": [
    {
     "data": {
      "text/plain": [
       "tensor([[0, 0, 0, 0],\n",
       "        [0, 0, 0, 0],\n",
       "        [0, 0, 0, 0],\n",
       "        [0, 0, 0, 0]])"
      ]
     },
     "execution_count": 6,
     "metadata": {},
     "output_type": "execute_result"
    }
   ],
   "source": [
    "x = torch.zeros(4, 4, dtype=torch.long)\n",
    "x"
   ]
  },
  {
   "cell_type": "code",
   "execution_count": 7,
   "id": "a77f54d5-90fc-49c4-b983-7b24bf70a27a",
   "metadata": {},
   "outputs": [
    {
     "data": {
      "text/plain": [
       "tensor([3.1400, 1.5900])"
      ]
     },
     "execution_count": 7,
     "metadata": {},
     "output_type": "execute_result"
    }
   ],
   "source": [
    "x = torch.tensor([3.14,1.59])\n",
    "x"
   ]
  },
  {
   "cell_type": "code",
   "execution_count": 10,
   "id": "9253c30b-9d37-4bfb-9c4d-8c5f35d271f3",
   "metadata": {},
   "outputs": [
    {
     "name": "stdout",
     "output_type": "stream",
     "text": [
      "torch.Size([2])\n",
      "torch.Size([2])\n"
     ]
    }
   ],
   "source": [
    "# 获取维度信息，两种方法都可以\n",
    "print(x.size())\n",
    "print(x.shape)"
   ]
  },
  {
   "cell_type": "markdown",
   "id": "550ba571-8205-48f5-99c6-b07f0b63e903",
   "metadata": {},
   "source": [
    "2. tensor操作"
   ]
  },
  {
   "cell_type": "code",
   "execution_count": 26,
   "id": "090a6f4e-8859-4ec6-9147-9061b2e78bd4",
   "metadata": {},
   "outputs": [
    {
     "name": "stdout",
     "output_type": "stream",
     "text": [
      "tensor([[0.7724, 0.4498, 0.0434, 0.4108],\n",
      "        [0.2852, 0.1988, 0.7160, 0.1822],\n",
      "        [0.5640, 0.6897, 0.5707, 0.6149]])\n",
      "tensor([[0.2941, 0.0507, 0.4964, 0.2940],\n",
      "        [0.1052, 0.1320, 0.5226, 0.0297],\n",
      "        [0.3483, 0.2081, 0.3229, 0.6375]])\n",
      "tensor([[1.0665, 0.5005, 0.5397, 0.7049],\n",
      "        [0.3904, 0.3308, 1.2386, 0.2119],\n",
      "        [0.9123, 0.8978, 0.8936, 1.2524]])\n"
     ]
    }
   ],
   "source": [
    "# 加法\n",
    "# 1 使用python内置加法\n",
    "x = torch.rand(3,4)\n",
    "y = torch.rand(3,4)\n",
    "print(x)\n",
    "print(y)\n",
    "print(x + y)"
   ]
  },
  {
   "cell_type": "code",
   "execution_count": 27,
   "id": "2d32d0d8-502d-4004-86e3-cb99b31eb8d6",
   "metadata": {},
   "outputs": [
    {
     "name": "stdout",
     "output_type": "stream",
     "text": [
      "tensor([[1.0665, 0.5005, 0.5397, 0.7049],\n",
      "        [0.3904, 0.3308, 1.2386, 0.2119],\n",
      "        [0.9123, 0.8978, 0.8936, 1.2524]])\n"
     ]
    }
   ],
   "source": [
    "# 2 使用torch.add函数 \n",
    "print(torch.add(x, y))"
   ]
  },
  {
   "cell_type": "code",
   "execution_count": 28,
   "id": "8c53ddc4-c535-4877-ab97-b54175f56ae5",
   "metadata": {},
   "outputs": [
    {
     "name": "stdout",
     "output_type": "stream",
     "text": [
      "tensor([[1.0665, 0.5005, 0.5397, 0.7049],\n",
      "        [0.3904, 0.3308, 1.2386, 0.2119],\n",
      "        [0.9123, 0.8978, 0.8936, 1.2524]])\n",
      "y is not changed:\n",
      " tensor([[0.2941, 0.0507, 0.4964, 0.2940],\n",
      "        [0.1052, 0.1320, 0.5226, 0.0297],\n",
      "        [0.3483, 0.2081, 0.3229, 0.6375]])\n",
      "tensor([[1.0665, 0.5005, 0.5397, 0.7049],\n",
      "        [0.3904, 0.3308, 1.2386, 0.2119],\n",
      "        [0.9123, 0.8978, 0.8936, 1.2524]])\n",
      "y is changed:\n",
      " tensor([[1.0665, 0.5005, 0.5397, 0.7049],\n",
      "        [0.3904, 0.3308, 1.2386, 0.2119],\n",
      "        [0.9123, 0.8978, 0.8936, 1.2524]])\n"
     ]
    }
   ],
   "source": [
    "# 3 原值修改\n",
    "print(y.add(x)) # Attention func add() doesn't change y\n",
    "print(\"y is not changed:\\n\", y)\n",
    "print(y.add_(x)) # func add_() will chage the original value of y\n",
    "print(\"y is changed:\\n\", y)"
   ]
  },
  {
   "cell_type": "markdown",
   "id": "acc1cc92-7cc6-4425-a476-d13d975c19d3",
   "metadata": {},
   "source": [
    "3. inedx operation"
   ]
  },
  {
   "cell_type": "code",
   "execution_count": 30,
   "id": "3a046eb7-f600-45f9-bfed-72235c8994b5",
   "metadata": {},
   "outputs": [
    {
     "name": "stdout",
     "output_type": "stream",
     "text": [
      "tensor([[0.9831, 0.0778, 0.6800, 0.3422],\n",
      "        [0.6729, 0.4878, 0.5622, 0.8390],\n",
      "        [0.8488, 0.7444, 0.5364, 0.1978]])\n",
      "\n",
      " tensor([0.0778, 0.4878, 0.7444])\n"
     ]
    }
   ],
   "source": [
    "x = torch.rand(3,4)\n",
    "print(x)\n",
    "print('\\n',x[:, 1])"
   ]
  },
  {
   "cell_type": "markdown",
   "id": "6d263600-81f5-4c95-ad1f-1d47e2f3c79f",
   "metadata": {},
   "source": [
    "索引取出来的结果和原tensor共享内存，修改是同步的"
   ]
  },
  {
   "cell_type": "markdown",
   "id": "bcc69aa8-4fb5-4af9-ac88-66d466ce6d8c",
   "metadata": {},
   "source": [
    "4. 维度变换"
   ]
  },
  {
   "cell_type": "code",
   "execution_count": 32,
   "id": "6ba991b9-c8c5-407b-ade7-3c1ca9c4efba",
   "metadata": {},
   "outputs": [
    {
     "name": "stdout",
     "output_type": "stream",
     "text": [
      "the original x: \n",
      " tensor([[0.3852, 0.6108, 0.3992, 0.8346],\n",
      "        [0.7671, 0.9568, 0.6151, 0.8207],\n",
      "        [0.1338, 0.7672, 0.1710, 0.2518],\n",
      "        [0.6416, 0.9894, 0.5339, 0.9618]])\n",
      "change the dim of x to 16: \n",
      " tensor([0.3852, 0.6108, 0.3992, 0.8346, 0.7671, 0.9568, 0.6151, 0.8207, 0.1338,\n",
      "        0.7672, 0.1710, 0.2518, 0.6416, 0.9894, 0.5339, 0.9618])\n",
      "change the dim of x to (2,8): \n",
      " tensor([[0.3852, 0.6108, 0.3992, 0.8346, 0.7671, 0.9568, 0.6151, 0.8207],\n",
      "        [0.1338, 0.7672, 0.1710, 0.2518, 0.6416, 0.9894, 0.5339, 0.9618]])\n"
     ]
    }
   ],
   "source": [
    "# torch.view, torch.reshape\n",
    "x = torch.rand(4,4)\n",
    "print(\"the original x: \\n\", x)\n",
    "y = x.view(16)\n",
    "print(\"change the dim of x to 16: \\n\", y)\n",
    "z = x.view(-1,8) # -1 表示这一维度的长度由其他维度确定\n",
    "print(\"change the dim of x to (2,8): \\n\", z)"
   ]
  },
  {
   "cell_type": "markdown",
   "id": "5b56159a-d8ac-4b98-9788-db393dffa08c",
   "metadata": {},
   "source": [
    "torch.view会让原张量和维度变换后的张量共享内存，大部分时候，我们不希望他们之间是共享内存的\n",
    "而第二种方法，`torch.reshape`，可以改变维度，但是不一定保证其返回的是其拷贝值"
   ]
  },
  {
   "cell_type": "code",
   "execution_count": 34,
   "id": "a048a113-b4e0-48c5-a06e-a77e728ead3c",
   "metadata": {},
   "outputs": [
    {
     "name": "stdout",
     "output_type": "stream",
     "text": [
      "tensor([2.3852, 2.6108, 2.3992, 2.8346, 2.7671, 2.9568, 2.6151, 2.8207, 2.1338,\n",
      "        2.7672, 2.1710, 2.2518, 2.6416, 2.9894, 2.5339, 2.9618])\n",
      "tensor([[2.3852, 2.6108, 2.3992, 2.8346],\n",
      "        [2.7671, 2.9568, 2.6151, 2.8207],\n",
      "        [2.1338, 2.7672, 2.1710, 2.2518],\n",
      "        [2.6416, 2.9894, 2.5339, 2.9618]])\n"
     ]
    }
   ],
   "source": [
    "y = x.reshape(16)\n",
    "y += 1\n",
    "print(y)\n",
    "print(x)\n",
    "# 可以看到，依旧是x和y共享内存"
   ]
  },
  {
   "cell_type": "markdown",
   "id": "39e16f34-ccdc-458b-808f-0fab90f83e5b",
   "metadata": {},
   "source": [
    "还有一种办法，就是使用clone拷贝一份tensor 再使用view进行维度变换"
   ]
  },
  {
   "cell_type": "code",
   "execution_count": 35,
   "id": "2775056d-ca3f-465f-8b12-43002a33c5fa",
   "metadata": {},
   "outputs": [
    {
     "name": "stdout",
     "output_type": "stream",
     "text": [
      "tensor([[3.3852, 3.6108, 3.3992, 3.8346],\n",
      "        [3.7671, 3.9568, 3.6151, 3.8207],\n",
      "        [3.1338, 3.7672, 3.1710, 3.2518],\n",
      "        [3.6416, 3.9894, 3.5339, 3.9618]])\n",
      "tensor([[2.3852, 2.6108, 2.3992, 2.8346],\n",
      "        [2.7671, 2.9568, 2.6151, 2.8207],\n",
      "        [2.1338, 2.7672, 2.1710, 2.2518],\n",
      "        [2.6416, 2.9894, 2.5339, 2.9618]])\n"
     ]
    }
   ],
   "source": [
    "y = x.clone()\n",
    "y += 1\n",
    "print(y)\n",
    "print(x)\n",
    "# 可以看到y变化了，x没有发生变化"
   ]
  },
  {
   "cell_type": "markdown",
   "id": "c0b87f77-0e00-426a-b18d-59eca495531c",
   "metadata": {},
   "source": [
    "5. 取值操作，使用item可以取出tensor中的数值，但必须指定要取的值的位置，不能直接对整个tensor进行操作"
   ]
  },
  {
   "cell_type": "code",
   "execution_count": 37,
   "id": "6aaea5cf-5bbc-48bf-a1eb-0c501270f99f",
   "metadata": {},
   "outputs": [
    {
     "data": {
      "text/plain": [
       "2.9567813873291016"
      ]
     },
     "execution_count": 37,
     "metadata": {},
     "output_type": "execute_result"
    }
   ],
   "source": [
    "x[1,1].item()"
   ]
  },
  {
   "cell_type": "code",
   "execution_count": 39,
   "id": "4236d2f3-f212-41b8-aadd-6663f31cee8d",
   "metadata": {},
   "outputs": [
    {
     "ename": "RuntimeError",
     "evalue": "a Tensor with 16 elements cannot be converted to Scalar",
     "output_type": "error",
     "traceback": [
      "\u001b[0;31m---------------------------------------------------------------------------\u001b[0m",
      "\u001b[0;31mRuntimeError\u001b[0m                              Traceback (most recent call last)",
      "Cell \u001b[0;32mIn[39], line 1\u001b[0m\n\u001b[0;32m----> 1\u001b[0m \u001b[43mx\u001b[49m\u001b[38;5;241;43m.\u001b[39;49m\u001b[43mitem\u001b[49m\u001b[43m(\u001b[49m\u001b[43m)\u001b[49m\n",
      "\u001b[0;31mRuntimeError\u001b[0m: a Tensor with 16 elements cannot be converted to Scalar"
     ]
    }
   ],
   "source": [
    "x.item()"
   ]
  },
  {
   "cell_type": "markdown",
   "id": "224814bc-fefa-4d0f-be8f-21cbc1c5c640",
   "metadata": {},
   "source": [
    "6. 广播机制\n",
    "当两个tensor的形状不一致的时候，进行逐元素运算的时候，会将两个tensor的形状先变为一样，并用原值复制填充"
   ]
  },
  {
   "cell_type": "code",
   "execution_count": 40,
   "id": "3943400b-e99c-4b10-9d2f-b0510ac71b4d",
   "metadata": {},
   "outputs": [
    {
     "name": "stdout",
     "output_type": "stream",
     "text": [
      "x:\n",
      " tensor([[0.7231, 0.2137]])\n",
      "y:\n",
      " tensor([[0.4987, 0.4809, 0.4975, 0.0572],\n",
      "        [0.0105, 0.4499, 0.4689, 0.9800],\n",
      "        [0.1806, 0.5032, 0.8568, 0.9174]])\n"
     ]
    },
    {
     "ename": "RuntimeError",
     "evalue": "The size of tensor a (2) must match the size of tensor b (4) at non-singleton dimension 1",
     "output_type": "error",
     "traceback": [
      "\u001b[0;31m---------------------------------------------------------------------------\u001b[0m",
      "\u001b[0;31mRuntimeError\u001b[0m                              Traceback (most recent call last)",
      "Cell \u001b[0;32mIn[40], line 5\u001b[0m\n\u001b[1;32m      3\u001b[0m \u001b[38;5;28mprint\u001b[39m(\u001b[38;5;124m\"\u001b[39m\u001b[38;5;124mx:\u001b[39m\u001b[38;5;130;01m\\n\u001b[39;00m\u001b[38;5;124m\"\u001b[39m,x)\n\u001b[1;32m      4\u001b[0m \u001b[38;5;28mprint\u001b[39m(\u001b[38;5;124m\"\u001b[39m\u001b[38;5;124my:\u001b[39m\u001b[38;5;130;01m\\n\u001b[39;00m\u001b[38;5;124m\"\u001b[39m,y)\n\u001b[0;32m----> 5\u001b[0m \u001b[38;5;28mprint\u001b[39m(\u001b[38;5;124m\"\u001b[39m\u001b[38;5;124mx + y:\u001b[39m\u001b[38;5;130;01m\\n\u001b[39;00m\u001b[38;5;124m\"\u001b[39m,\u001b[43mx\u001b[49m\u001b[43m \u001b[49m\u001b[38;5;241;43m+\u001b[39;49m\u001b[43m \u001b[49m\u001b[43my\u001b[49m)\n",
      "\u001b[0;31mRuntimeError\u001b[0m: The size of tensor a (2) must match the size of tensor b (4) at non-singleton dimension 1"
     ]
    }
   ],
   "source": [
    "x = torch.rand(1,2)\n",
    "y = torch.rand(3,4)\n",
    "print(\"x:\\n\",x)\n",
    "print(\"y:\\n\",y)\n",
    "print(\"x + y:\\n\",x + y)"
   ]
  },
  {
   "cell_type": "markdown",
   "id": "e843b5e5-3708-4f8b-a873-7d09d0ac4b77",
   "metadata": {},
   "source": [
    "可以看到这样子操作是错误的，为什么呢，请看torch中的广播机制的要求\n",
    "广播机制规则\n",
    "1. 如果遵守以下规则，则两个tensor是“可广播的”：\n",
    "\n",
    "每个tensor至少有一个维度；\n",
    "遍历tensor所有维度时，从末尾开始遍历（从右往左开始遍历）（从后往前开始遍历），两个tensor存在下列情况：\n",
    "\n",
    "- tensor维度相等。\n",
    "- tensor维度不等且其中一个维度为1。\n",
    "- tensor维度不等且其中一个维度不存在。\n",
    "\n",
    "2. 如果两个tensor是“可广播的”，则计算过程遵循下列规则：\n",
    "\n",
    "- 如果两个tensor的维度不同，则在维度较小的tensor的前面增加维度，使它们维度相等。\n",
    "- 对于每个维度，计算结果的维度值取两个tensor中较大的那个值。\n",
    "- 两个tensor扩展维度的过程是将数值进行复制。\n",
    "                        \n",
    "> 原文链接：https://blog.csdn.net/flyingluohaipeng/article/details/125109094\n",
    "\n",
    "所以需要tensor中某一维度必须为1"
   ]
  },
  {
   "cell_type": "code",
   "execution_count": 41,
   "id": "191c37d6-1ead-4fde-b70f-09ebbd2f7157",
   "metadata": {},
   "outputs": [
    {
     "name": "stdout",
     "output_type": "stream",
     "text": [
      "x:\n",
      " tensor([[0.4703, 0.0403]])\n",
      "y:\n",
      " tensor([[0.9153],\n",
      "        [0.0226],\n",
      "        [0.7550]])\n",
      "x + y:\n",
      " tensor([[1.3856, 0.9556],\n",
      "        [0.4929, 0.0629],\n",
      "        [1.2253, 0.7953]])\n"
     ]
    }
   ],
   "source": [
    "x = torch.rand(1,2)\n",
    "y = torch.rand(3,1)\n",
    "print(\"x:\\n\",x)\n",
    "print(\"y:\\n\",y)\n",
    "print(\"x + y:\\n\",x + y)"
   ]
  }
 ],
 "metadata": {
  "kernelspec": {
   "display_name": "Python 3 (ipykernel)",
   "language": "python",
   "name": "python3"
  },
  "language_info": {
   "codemirror_mode": {
    "name": "ipython",
    "version": 3
   },
   "file_extension": ".py",
   "mimetype": "text/x-python",
   "name": "python",
   "nbconvert_exporter": "python",
   "pygments_lexer": "ipython3",
   "version": "3.9.19"
  }
 },
 "nbformat": 4,
 "nbformat_minor": 5
}
